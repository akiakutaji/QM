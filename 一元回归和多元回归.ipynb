{
 "cells": [
  {
   "cell_type": "code",
   "execution_count": 1,
   "metadata": {},
   "outputs": [
    {
     "name": "stderr",
     "output_type": "stream",
     "text": [
      "C:\\Users\\HuanfaChen\\Anaconda3\\envs\\sds2020\\lib\\site-packages\\ipykernel\\parentpoller.py:116: UserWarning: Parent poll failed.  If the frontend dies,\n",
      "                the kernel may be left running.  Please let us know\n",
      "                about your system (bitness, Python, etc.) at\n",
      "                ipython-dev@scipy.org\n",
      "  ipython-dev@scipy.org\"\"\")\n"
     ]
    }
   ],
   "source": [
    "%matplotlib inline\n",
    "\n",
    "import matplotlib.pyplot as plt\n",
    "import numpy as np\n",
    "import pandas as pd\n",
    "import scipy as sp\n",
    "\n",
    "import scipy.stats as sps"
   ]
  },
  {
   "cell_type": "code",
   "execution_count": 2,
   "metadata": {},
   "outputs": [],
   "source": [
    "# Load the data into data frames\n",
    "\n",
    "d1 = pd.read_csv('office_environ_data_1.csv')"
   ]
  },
  {
   "cell_type": "code",
   "execution_count": 3,
   "metadata": {},
   "outputs": [
    {
     "data": {
      "text/html": [
       "<div>\n",
       "<style scoped>\n",
       "    .dataframe tbody tr th:only-of-type {\n",
       "        vertical-align: middle;\n",
       "    }\n",
       "\n",
       "    .dataframe tbody tr th {\n",
       "        vertical-align: top;\n",
       "    }\n",
       "\n",
       "    .dataframe thead th {\n",
       "        text-align: right;\n",
       "    }\n",
       "</style>\n",
       "<table border=\"1\" class=\"dataframe\">\n",
       "  <thead>\n",
       "    <tr style=\"text-align: right;\">\n",
       "      <th></th>\n",
       "      <th>gender</th>\n",
       "      <th>greenery index</th>\n",
       "      <th>natural light index</th>\n",
       "      <th>reported well-being</th>\n",
       "    </tr>\n",
       "  </thead>\n",
       "  <tbody>\n",
       "    <tr>\n",
       "      <th>0</th>\n",
       "      <td>M</td>\n",
       "      <td>124.7</td>\n",
       "      <td>28.4</td>\n",
       "      <td>6</td>\n",
       "    </tr>\n",
       "    <tr>\n",
       "      <th>1</th>\n",
       "      <td>F</td>\n",
       "      <td>67.9</td>\n",
       "      <td>64.0</td>\n",
       "      <td>6</td>\n",
       "    </tr>\n",
       "    <tr>\n",
       "      <th>2</th>\n",
       "      <td>M</td>\n",
       "      <td>129.4</td>\n",
       "      <td>79.5</td>\n",
       "      <td>7</td>\n",
       "    </tr>\n",
       "    <tr>\n",
       "      <th>3</th>\n",
       "      <td>F</td>\n",
       "      <td>111.1</td>\n",
       "      <td>130.7</td>\n",
       "      <td>8</td>\n",
       "    </tr>\n",
       "    <tr>\n",
       "      <th>4</th>\n",
       "      <td>F</td>\n",
       "      <td>168.2</td>\n",
       "      <td>79.1</td>\n",
       "      <td>8</td>\n",
       "    </tr>\n",
       "  </tbody>\n",
       "</table>\n",
       "</div>"
      ],
      "text/plain": [
       "  gender  greenery index  natural light index  reported well-being\n",
       "0      M           124.7                 28.4                    6\n",
       "1      F            67.9                 64.0                    6\n",
       "2      M           129.4                 79.5                    7\n",
       "3      F           111.1                130.7                    8\n",
       "4      F           168.2                 79.1                    8"
      ]
     },
     "execution_count": 3,
     "metadata": {},
     "output_type": "execute_result"
    }
   ],
   "source": [
    "# The data reports the responses (on a scale of 1 to 10) of 100 office workers about their subjective feelings...\n",
    "# ... of well-being in relation to their working environment.\n",
    "# Information on the gender of respondents is provided, along with some indices to measure the greenery...\n",
    "# ... of their environment (e.g. pot plants, views of trees) and the amount of natural light.\n",
    "\n",
    "# Let's visualise the first few rows of each data set:\n",
    "\n",
    "d1.head()"
   ]
  },
  {
   "cell_type": "markdown",
   "metadata": {},
   "source": [
    "# Simple regression"
   ]
  },
  {
   "cell_type": "code",
   "execution_count": 4,
   "metadata": {},
   "outputs": [
    {
     "data": {
      "image/png": "[encoded data removed]",
      "text/plain": [
       "<Figure size 432x288 with 1 Axes>"
      ]
     },
     "metadata": {
      "needs_background": "light"
     },
     "output_type": "display_data"
    },
    {
     "name": "stdout",
     "output_type": "stream",
     "text": [
      "y = 0.014 x + 5.706\n",
      "Rsq =  0.34523516578160884\n",
      "p-value =  1.3075485893766194e-10\n"
     ]
    }
   ],
   "source": [
    "# This is a regression of well-being against greenery:\n",
    "\n",
    "X = d1['greenery index']\n",
    "Y = d1['reported well-being']\n",
    "\n",
    "plt.xlabel('greenery index')\n",
    "plt.ylabel('reported well-being')\n",
    "\n",
    "a = plt.plot(X,Y,'.', label='original data')\n",
    "plt.xlim(0,200)\n",
    "plt.ylim(4,10)\n",
    "\n",
    "slope, intercept, r_value, p_value, std_err = sps.linregress(X, Y) \n",
    "\n",
    "b = plt.plot(X, X*slope + intercept, 'r', label = 'fitted line') # Plot the regression line.\n",
    "\n",
    "plt.legend()\n",
    "plt.show()\n",
    "\n",
    "print(\"y =\", round(slope,3), \"x +\", round(intercept,3))\n",
    "print(\"Rsq = \", r_value**2)\n",
    "print(\"p-value = \", p_value)"
   ]
  },
  {
   "cell_type": "code",
   "execution_count": 5,
   "metadata": {},
   "outputs": [
    {
     "data": {
      "image/png": "[encoded data removed]",
      "text/plain": [
       "<Figure size 432x288 with 1 Axes>"
      ]
     },
     "metadata": {
      "needs_background": "light"
     },
     "output_type": "display_data"
    },
    {
     "name": "stdout",
     "output_type": "stream",
     "text": [
      "y = 0.014 x + 5.634\n",
      "Rsq =  0.4104815876732613\n",
      "p-value =  7.029291722352253e-13\n"
     ]
    }
   ],
   "source": [
    "# This is a regression of well-being against natural light:\n",
    "\n",
    "X = d1['natural light index']\n",
    "Y = d1['reported well-being']\n",
    "\n",
    "plt.xlabel('natural light index')\n",
    "plt.ylabel('reported well-being')\n",
    "\n",
    "a = plt.plot(X,Y,'.',label='original data')\n",
    "plt.xlim(0,200)\n",
    "plt.ylim(4,10)\n",
    "\n",
    "slope, intercept, r_value, p_value, std_err = sps.linregress(X, Y) \n",
    "\n",
    "b = plt.plot(X, X*slope + intercept, 'r', label = 'fitted line') # Plot the regression line.\n",
    "\n",
    "plt.legend()\n",
    "plt.show()\n",
    "\n",
    "print(\"y =\", round(slope,3), \"x +\", round(intercept,3))\n",
    "print(\"Rsq = \", r_value**2)\n",
    "print(\"p-value = \", p_value)"
   ]
  },
  {
   "cell_type": "markdown",
   "metadata": {},
   "source": [
    "# Multiple regression"
   ]
  },
  {
   "cell_type": "code",
   "execution_count": 6,
   "metadata": {},
   "outputs": [],
   "source": [
    "# This package will allow for multilinear regression. You can also use it for simple linear regression.\n",
    "# If you do not have it, you can download it from here:\n",
    "# http://statsmodels.sourceforge.net/install.html\n",
    "# After installing, you may need to close and reopen Canopy or reboot your computer.\n",
    "\n",
    "import statsmodels.formula.api as smf\n",
    "import statsmodels.api as sm"
   ]
  },
  {
   "cell_type": "code",
   "execution_count": 7,
   "metadata": {},
   "outputs": [
    {
     "name": "stdout",
     "output_type": "stream",
     "text": [
      "                            OLS Regression Results                            \n",
      "==============================================================================\n",
      "Dep. Variable:              wellbeing   R-squared:                       0.749\n",
      "Model:                            OLS   Adj. R-squared:                  0.743\n",
      "Method:                 Least Squares   F-statistic:                     144.4\n",
      "Date:                Wed, 14 Oct 2020   Prob (F-statistic):           8.29e-30\n",
      "Time:                        14:30:08   Log-Likelihood:                -48.146\n",
      "No. Observations:                 100   AIC:                             102.3\n",
      "Df Residuals:                      97   BIC:                             110.1\n",
      "Df Model:                           2                                         \n",
      "Covariance Type:            nonrobust                                         \n",
      "==============================================================================\n",
      "                 coef    std err          t      P>|t|      [0.025      0.975]\n",
      "------------------------------------------------------------------------------\n",
      "Intercept      4.2670      0.172     24.853      0.000       3.926       4.608\n",
      "greenery       0.0136      0.001     11.421      0.000       0.011       0.016\n",
      "light          0.0136      0.001     12.475      0.000       0.011       0.016\n",
      "==============================================================================\n",
      "Omnibus:                        1.671   Durbin-Watson:                   1.943\n",
      "Prob(Omnibus):                  0.434   Jarque-Bera (JB):                1.528\n",
      "Skew:                           0.182   Prob(JB):                        0.466\n",
      "Kurtosis:                       2.516   Cond. No.                         655.\n",
      "==============================================================================\n",
      "\n",
      "Notes:\n",
      "[1] Standard Errors assume that the covariance matrix of the errors is correctly specified.\n"
     ]
    }
   ],
   "source": [
    "# It turns out it's easier to work with columns with single word names, so...\n",
    "d1 = d1.rename(columns = {'reported well-being':'wellbeing',\n",
    "                          'greenery index':'greenery',\n",
    "                          'natural light index':'light'})\n",
    "\n",
    "# This performs a multiple regression of wellbeing against greenery and natural light:\n",
    "multi_regression_model_1 = smf.ols(formula='wellbeing ~ greenery + light',data=d1).fit()\n",
    "\n",
    "# And this gives a big summary of the results:\n",
    "print(multi_regression_model_1.summary())"
   ]
  },
  {
   "cell_type": "code",
   "execution_count": 8,
   "metadata": {},
   "outputs": [
    {
     "name": "stdout",
     "output_type": "stream",
     "text": [
      "y = 0.014 x1 + 0.014 x2 + 4.267\n",
      "R^2     =  0.748588335477443\n",
      "p-value_1 =  0.0\n",
      "p-value_2 =  0.0\n"
     ]
    }
   ],
   "source": [
    "# Pick out some values of interest and print the regression equation:\n",
    "\n",
    "beta_0, beta_1, beta_2 = multi_regression_model_1.params\n",
    "rsq                    = multi_regression_model_1.rsquared\n",
    "pval_0, pval_1, pval_2 = multi_regression_model_1.pvalues\n",
    "\n",
    "print(\"y =\", round(beta_1,3), \"x1 +\", round(beta_2,3), \"x2 +\", round(beta_0,3))\n",
    "print(\"R^2     = \", rsq)\n",
    "print(\"p-value_1 = \", round(pval_1,3))\n",
    "print(\"p-value_2 = \", round(pval_2,3))"
   ]
  },
  {
   "cell_type": "code",
   "execution_count": 9,
   "metadata": {},
   "outputs": [
    {
     "data": {
      "image/png": "[encoded data removed]",
      "text/plain": [
       "<Figure size 720x576 with 4 Axes>"
      ]
     },
     "metadata": {
      "needs_background": "light"
     },
     "output_type": "display_data"
    }
   ],
   "source": [
    "# produce regression plots\n",
    "fig = plt.figure(figsize=(10,8))\n",
    "fig = sm.graphics.plot_regress_exog(multi_regression_model_1, 'greenery', fig=fig)"
   ]
  },
  {
   "cell_type": "markdown",
   "metadata": {},
   "source": [
    "# RSquared of simple and multiple regression"
   ]
  },
  {
   "cell_type": "code",
   "execution_count": 10,
   "metadata": {},
   "outputs": [
    {
     "data": {
      "text/html": [
       "<div>\n",
       "<style scoped>\n",
       "    .dataframe tbody tr th:only-of-type {\n",
       "        vertical-align: middle;\n",
       "    }\n",
       "\n",
       "    .dataframe tbody tr th {\n",
       "        vertical-align: top;\n",
       "    }\n",
       "\n",
       "    .dataframe thead th {\n",
       "        text-align: right;\n",
       "    }\n",
       "</style>\n",
       "<table border=\"1\" class=\"dataframe\">\n",
       "  <thead>\n",
       "    <tr style=\"text-align: right;\">\n",
       "      <th></th>\n",
       "      <th>gender</th>\n",
       "      <th>greenery index</th>\n",
       "      <th>natural light index</th>\n",
       "      <th>reported well-being</th>\n",
       "    </tr>\n",
       "  </thead>\n",
       "  <tbody>\n",
       "    <tr>\n",
       "      <th>0</th>\n",
       "      <td>M</td>\n",
       "      <td>86.1</td>\n",
       "      <td>93.8</td>\n",
       "      <td>7</td>\n",
       "    </tr>\n",
       "    <tr>\n",
       "      <th>1</th>\n",
       "      <td>M</td>\n",
       "      <td>110.5</td>\n",
       "      <td>70.0</td>\n",
       "      <td>7</td>\n",
       "    </tr>\n",
       "    <tr>\n",
       "      <th>2</th>\n",
       "      <td>F</td>\n",
       "      <td>77.6</td>\n",
       "      <td>93.0</td>\n",
       "      <td>7</td>\n",
       "    </tr>\n",
       "    <tr>\n",
       "      <th>3</th>\n",
       "      <td>M</td>\n",
       "      <td>130.7</td>\n",
       "      <td>99.6</td>\n",
       "      <td>8</td>\n",
       "    </tr>\n",
       "    <tr>\n",
       "      <th>4</th>\n",
       "      <td>M</td>\n",
       "      <td>68.7</td>\n",
       "      <td>110.3</td>\n",
       "      <td>7</td>\n",
       "    </tr>\n",
       "  </tbody>\n",
       "</table>\n",
       "</div>"
      ],
      "text/plain": [
       "  gender  greenery index  natural light index  reported well-being\n",
       "0      M            86.1                 93.8                    7\n",
       "1      M           110.5                 70.0                    7\n",
       "2      F            77.6                 93.0                    7\n",
       "3      M           130.7                 99.6                    8\n",
       "4      M            68.7                110.3                    7"
      ]
     },
     "execution_count": 10,
     "metadata": {},
     "output_type": "execute_result"
    }
   ],
   "source": [
    "# Now let's move on to an alternative version of the same data set:\n",
    "\n",
    "d2 = pd.read_csv('office_environ_data_2.csv')\n",
    "d2.head()"
   ]
  },
  {
   "cell_type": "code",
   "execution_count": 11,
   "metadata": {},
   "outputs": [
    {
     "data": {
      "image/png": "[encoded data removed]",
      "text/plain": [
       "<Figure size 432x288 with 1 Axes>"
      ]
     },
     "metadata": {
      "needs_background": "light"
     },
     "output_type": "display_data"
    },
    {
     "name": "stdout",
     "output_type": "stream",
     "text": [
      "y = 0.019 x + 5.055\n",
      "Rsq =  0.5610338746441706\n",
      "p-value =  3.210026144611256e-19\n"
     ]
    }
   ],
   "source": [
    "# This is a regression of well-being against greenery:\n",
    "\n",
    "X = d2['greenery index']\n",
    "Y = d2['reported well-being']\n",
    "\n",
    "a = plt.plot(X,Y,'g.',label='original')\n",
    "plt.xlim(0,200)\n",
    "plt.ylim(4,10)\n",
    "plt.xlabel('greenery')\n",
    "plt.ylabel('well-being')\n",
    "\n",
    "slope, intercept, r_value, p_value, std_err = sps.linregress(X, Y) \n",
    "\n",
    "b = plt.plot(X, X*slope + intercept, 'r', label='fitted line') # Plot the regression line.\n",
    "plt.legend()\n",
    "plt.show()\n",
    "\n",
    "print(\"y =\", round(slope,3), \"x +\", round(intercept,3))\n",
    "print(\"Rsq = \", r_value**2)\n",
    "print(\"p-value = \", p_value)"
   ]
  },
  {
   "cell_type": "code",
   "execution_count": 12,
   "metadata": {},
   "outputs": [
    {
     "data": {
      "image/png": "[encoded data removed]",
      "text/plain": [
       "<Figure size 432x288 with 1 Axes>"
      ]
     },
     "metadata": {
      "needs_background": "light"
     },
     "output_type": "display_data"
    },
    {
     "name": "stdout",
     "output_type": "stream",
     "text": [
      "y = 0.019 x + 5.137\n",
      "Rsq =  0.5991781707213336\n",
      "p-value =  3.615753891493599e-21\n"
     ]
    }
   ],
   "source": [
    "# This is a regression of well-being against natural light:\n",
    "\n",
    "X = d2['natural light index']\n",
    "Y = d2['reported well-being']\n",
    "\n",
    "a = plt.plot(X,Y,'g.',label='original')\n",
    "plt.xlim(0,200)\n",
    "plt.ylim(4,10)\n",
    "plt.xlabel('light')\n",
    "plt.ylabel('well-being')\n",
    "\n",
    "slope, intercept, r_value, p_value, std_err = sps.linregress(X, Y) \n",
    "\n",
    "b = plt.plot(X, X*slope + intercept, 'r', label='fitted line') # Plot the regression line.\n",
    "plt.legend()\n",
    "plt.show()\n",
    "\n",
    "print(\"y =\", round(slope,3), \"x +\", round(intercept,3))\n",
    "print(\"Rsq = \", r_value**2)\n",
    "print(\"p-value = \", p_value)"
   ]
  },
  {
   "cell_type": "code",
   "execution_count": 13,
   "metadata": {},
   "outputs": [],
   "source": [
    "# Perform the multilinear regression:\n",
    "\n",
    "d2 = d2.rename(columns = {'reported well-being':'wellbeing',\n",
    "                          'greenery index':'greenery',\n",
    "                          'natural light index':'light'})\n",
    "multi_regression_model_2 = smf.ols(formula='wellbeing ~ greenery + light',data=d2).fit()"
   ]
  },
  {
   "cell_type": "code",
   "execution_count": 14,
   "metadata": {
    "scrolled": true
   },
   "outputs": [
    {
     "name": "stdout",
     "output_type": "stream",
     "text": [
      "y = 0.012 x1 + 0.013 x2 + 4.56\n",
      "R^2     =  0.741004206602793\n",
      "p-value_1 =  0.0\n",
      "p-value_2 =  0.0\n"
     ]
    }
   ],
   "source": [
    "# Pick out some values of interest and print the regression equation:\n",
    "\n",
    "beta_0, beta_1, beta_2 = multi_regression_model_2.params\n",
    "rsq                    = multi_regression_model_2.rsquared\n",
    "pval_0, pval_1, pval_2 = multi_regression_model_2.pvalues\n",
    "\n",
    "print(\"y =\", round(beta_1,3), \"x1 +\", round(beta_2,3), \"x2 +\", round(beta_0,3))\n",
    "print(\"R^2     = \", rsq)\n",
    "print(\"p-value_1 = \", round(pval_1,3))\n",
    "print(\"p-value_2 = \", round(pval_2,3))"
   ]
  },
  {
   "cell_type": "code",
   "execution_count": 15,
   "metadata": {},
   "outputs": [
    {
     "data": {
      "image/png": "[encoded data removed]",
      "text/plain": [
       "<Figure size 432x288 with 1 Axes>"
      ]
     },
     "metadata": {
      "needs_background": "light"
     },
     "output_type": "display_data"
    },
    {
     "name": "stdout",
     "output_type": "stream",
     "text": [
      "y = 0.01 x + 105.976\n",
      "Rsq =  9.13718302053549e-05\n",
      "p-value =  0.9248001760628872\n",
      "\n",
      "Correlation between greenery and natural light indices: 0.01\n"
     ]
    }
   ],
   "source": [
    "# The first data set showed Rsq values of approx. 30-40% when treating each variable separately...\n",
    "# while the combined model showed an Rsq value of 75%.\n",
    "\n",
    "# The second data set showed Rsq values of approx. 50-60% when treating each variable separately...\n",
    "# while the combined model showed an Rsq value of 74%.\n",
    "\n",
    "# To understand why, we look at the correlation between the explanatory variables in each data set.\n",
    "\n",
    "# (The uncorrelated explanatory variables of set 1 provide completely independent information about well-being...\n",
    "# ... while the correlated expl. variables of set 2 have an overlap in the information they provide...\n",
    "# ... so there is not such a big improvement in Rsq in the combined model for set 2, as there was for set 1)\n",
    "\n",
    "# Data set 1:\n",
    "# What is the relationship or correlation between 'greenery' and 'light'?\n",
    "\n",
    "X = d1['greenery']\n",
    "Y = d1['light']\n",
    "\n",
    "a = plt.plot(X,Y,'.', label = 'original')\n",
    "plt.xlim(0,200)\n",
    "plt.ylim(0,200)\n",
    "\n",
    "plt.xlabel('greenery')\n",
    "plt.ylabel('light')\n",
    "slope, intercept, r_value, p_value, std_err = sps.linregress(X, Y) \n",
    "\n",
    "b = plt.plot(X, X*slope + intercept, 'r', label = 'fitted line') # Plot the regression line.\n",
    "\n",
    "plt.legend()\n",
    "plt.show()\n",
    "\n",
    "print(\"y =\", round(slope,3), \"x +\", round(intercept,3))\n",
    "print(\"Rsq = \", r_value**2)\n",
    "print(\"p-value = \", p_value)\n",
    "print()\n",
    "\n",
    "corr_green_light, corr_p_val = sps.pearsonr(X, Y)\n",
    "print(\"Correlation between greenery and natural light indices:\", round(corr_green_light,3))"
   ]
  },
  {
   "cell_type": "code",
   "execution_count": 16,
   "metadata": {},
   "outputs": [
    {
     "name": "stdout",
     "output_type": "stream",
     "text": [
      "y = 0.591 x + 39.401\n",
      "Rsq =  0.3213041801463353\n",
      "p-value =  7.854207705297026e-10\n",
      "\n",
      "Correlation between greenery and natural light indices: 0.567\n"
     ]
    },
    {
     "data": {
      "image/png": "[encoded data removed]",
      "text/plain": [
       "<Figure size 432x288 with 1 Axes>"
      ]
     },
     "metadata": {
      "needs_background": "light"
     },
     "output_type": "display_data"
    }
   ],
   "source": [
    "# Data set 2:\n",
    "\n",
    "X = d2['greenery']\n",
    "Y = d2['light']\n",
    "\n",
    "a = plt.plot(X,Y,'g.', label = 'original')\n",
    "plt.xlim(0,200)\n",
    "plt.ylim(0,200)\n",
    "plt.xlabel('greenery')\n",
    "plt.ylabel('light')\n",
    "\n",
    "slope, intercept, r_value, p_value, std_err = sps.linregress(X, Y) \n",
    "\n",
    "b = plt.plot(X, X*slope + intercept, 'r', label = 'fitted line') # Plot the regression line.\n",
    "\n",
    "print(\"y =\", round(slope,3), \"x +\", round(intercept,3))\n",
    "print(\"Rsq = \", r_value**2)\n",
    "print(\"p-value = \", p_value)\n",
    "print()\n",
    "\n",
    "corr_green_light, corr_p_val = sps.pearsonr(X, Y)\n",
    "print(\"Correlation between greenery and natural light indices:\", round(corr_green_light,3))"
   ]
  },
  {
   "cell_type": "markdown",
   "metadata": {},
   "source": [
    "Hope this gives you an expression of the colinearity between two variables, and how they influence the regression result."
   ]
  },
  {
   "cell_type": "markdown",
   "metadata": {},
   "source": [
    "# Using categorical variables"
   ]
  },
  {
   "cell_type": "code",
   "execution_count": 17,
   "metadata": {},
   "outputs": [],
   "source": [
    "# Now to look at gender (in the first data set only)\n",
    "# First, create a new column to convert the genders into 1s and 0s:\n",
    "# using the get_dummies() function from pandas\n",
    "\n",
    "gender_one_hot = pd.get_dummies(d1['gender'], prefix = 'gender', drop_first=True)\n",
    "d1 = d1.drop('gender', axis = 1)\n",
    "d1 = d1.join(gender_one_hot)"
   ]
  },
  {
   "cell_type": "code",
   "execution_count": 18,
   "metadata": {},
   "outputs": [
    {
     "data": {
      "text/html": [
       "<div>\n",
       "<style scoped>\n",
       "    .dataframe tbody tr th:only-of-type {\n",
       "        vertical-align: middle;\n",
       "    }\n",
       "\n",
       "    .dataframe tbody tr th {\n",
       "        vertical-align: top;\n",
       "    }\n",
       "\n",
       "    .dataframe thead th {\n",
       "        text-align: right;\n",
       "    }\n",
       "</style>\n",
       "<table border=\"1\" class=\"dataframe\">\n",
       "  <thead>\n",
       "    <tr style=\"text-align: right;\">\n",
       "      <th></th>\n",
       "      <th>greenery</th>\n",
       "      <th>light</th>\n",
       "      <th>wellbeing</th>\n",
       "      <th>gender_M</th>\n",
       "    </tr>\n",
       "  </thead>\n",
       "  <tbody>\n",
       "    <tr>\n",
       "      <th>0</th>\n",
       "      <td>124.7</td>\n",
       "      <td>28.4</td>\n",
       "      <td>6</td>\n",
       "      <td>1</td>\n",
       "    </tr>\n",
       "    <tr>\n",
       "      <th>1</th>\n",
       "      <td>67.9</td>\n",
       "      <td>64.0</td>\n",
       "      <td>6</td>\n",
       "      <td>0</td>\n",
       "    </tr>\n",
       "    <tr>\n",
       "      <th>2</th>\n",
       "      <td>129.4</td>\n",
       "      <td>79.5</td>\n",
       "      <td>7</td>\n",
       "      <td>1</td>\n",
       "    </tr>\n",
       "    <tr>\n",
       "      <th>3</th>\n",
       "      <td>111.1</td>\n",
       "      <td>130.7</td>\n",
       "      <td>8</td>\n",
       "      <td>0</td>\n",
       "    </tr>\n",
       "    <tr>\n",
       "      <th>4</th>\n",
       "      <td>168.2</td>\n",
       "      <td>79.1</td>\n",
       "      <td>8</td>\n",
       "      <td>0</td>\n",
       "    </tr>\n",
       "  </tbody>\n",
       "</table>\n",
       "</div>"
      ],
      "text/plain": [
       "   greenery  light  wellbeing  gender_M\n",
       "0     124.7   28.4          6         1\n",
       "1      67.9   64.0          6         0\n",
       "2     129.4   79.5          7         1\n",
       "3     111.1  130.7          8         0\n",
       "4     168.2   79.1          8         0"
      ]
     },
     "execution_count": 18,
     "metadata": {},
     "output_type": "execute_result"
    }
   ],
   "source": [
    "# Display the first few rows:\n",
    "\n",
    "d1.head()"
   ]
  },
  {
   "cell_type": "code",
   "execution_count": 19,
   "metadata": {
    "scrolled": true
   },
   "outputs": [
    {
     "name": "stdout",
     "output_type": "stream",
     "text": [
      "y = 0.014 x1 + 0.014 x2 + 0.021 x3 + 4.256\n",
      "R^2     =  0.7487633838520811\n",
      "p-value_1 =  0.0\n",
      "p-value_2 =  0.0\n",
      "p-value_3 =  0.796\n"
     ]
    }
   ],
   "source": [
    "# Perform a multiple linear regression including gender.\n",
    "# The p-value for gender is very high, indicating that it is very likely not to be linked to well-being.\n",
    "# There does not seem to be any reason to include gender.\n",
    "\n",
    "multi_regression_model_1A = smf.ols(formula='wellbeing ~ greenery + light + gender_M',data=d1).fit()\n",
    "\n",
    "beta_0, beta_1, beta_2, beta_3 = multi_regression_model_1A.params\n",
    "rsq                            = multi_regression_model_1A.rsquared\n",
    "pval_0, pval_1, pval_2, pval_3 = multi_regression_model_1A.pvalues\n",
    "\n",
    "print(\"y =\", round(beta_1,3), \"x1 +\", round(beta_2,3), \"x2 +\", round(beta_3,3), \"x3 +\", round(beta_0,3))\n",
    "print(\"R^2     = \", rsq)\n",
    "print(\"p-value_1 = \", round(pval_1,3))\n",
    "print(\"p-value_2 = \", round(pval_2,3))\n",
    "print(\"p-value_3 = \", round(pval_3,3))"
   ]
  }
 ],
 "metadata": {
  "kernelspec": {
   "display_name": "CASA2020",
   "language": "python",
   "name": "sds2020"
  },
  "language_info": {
   "codemirror_mode": {
    "name": "ipython",
    "version": 3
   },
   "file_extension": ".py",
   "mimetype": "text/x-python",
   "name": "python",
   "nbconvert_exporter": "python",
   "pygments_lexer": "ipython3",
   "version": "3.7.8"
  }
 },
 "nbformat": 4,
 "nbformat_minor": 4
}
