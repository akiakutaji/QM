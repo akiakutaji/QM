{
 "cells": [
  {
   "cell_type": "markdown",
   "metadata": {},
   "source": [
    "# correlation matrix"
   ]
  },
  {
   "cell_type": "code",
   "execution_count": 1,
   "metadata": {},
   "outputs": [
    {
     "name": "stdout",
     "output_type": "stream",
     "text": [
      "[[1.         0.72960693 0.97846909]\n",
      " [0.72960693 1.         0.60106642]\n",
      " [0.97846909 0.60106642 1.        ]]\n"
     ]
    }
   ],
   "source": [
    "# This program creates a correlation matrix from data stored in a csv file.\n",
    "# It then saves the correlation matrix as a csv file.\n",
    "\n",
    "# The data file must be in columns of numbers - no column labels, etc.\n",
    "# Each column is a data series, X0, X1, X2, etc.\n",
    "\n",
    "# This data must be saved as a csv file (e.g. use \"Save As\" in Excel and choose csv format).\n",
    "# It must be saved in the same folder as this program.\n",
    "# See the file demo_multreg_data_example.csv for reference.\n",
    "\n",
    "# In the next line, replace demo_multreg_data_example.csv with the filename of your data:\n",
    "data_filename = 'demo_multreg_data_example.csv'\n",
    "\n",
    "# In the next line, replace correlation_matrix with the filename you wish to save as:\n",
    "output_filename = 'correlation_matrix.csv'\n",
    "\n",
    "# The next lines import the necessary package to create the correlation analysis:\n",
    "import numpy as np\n",
    "\n",
    "data = np.genfromtxt(data_filename,delimiter = ',')\n",
    "\n",
    "# If there are errors importing the data, you can also copy it in as follows:\n",
    "# e.g. data = [[737.4776314, 34, 65],\n",
    "#              [869.2063792, 57, 73],\n",
    "#              [1033.705248, 59, 100],\n",
    "#              ...\n",
    "#              [737.5129466, 66, 49]]\n",
    "# (Compare this example with the file demo_multreg_data_example.csv)\n",
    "\n",
    "# These lines create the correlation matrix and print it:\n",
    "correlation_matrix = np.corrcoef(data.T)\n",
    "print(correlation_matrix)\n",
    "\n",
    "# correlation_matrix[i,j] is the correlation between the series Xi and Xj.\n",
    "\n",
    "# The next line saves the correlation matrix as a csv file:\n",
    "np.savetxt(output_filename,correlation_matrix,delimiter=',')"
   ]
  },
  {
   "cell_type": "markdown",
   "metadata": {},
   "source": [
    "# histogram"
   ]
  },
  {
   "cell_type": "code",
   "execution_count": 3,
   "metadata": {},
   "outputs": [
    {
     "data": {
      "image/png": "[encoded data removed]",
      "text/plain": [
       "<Figure size 504x504 with 1 Axes>"
      ]
     },
     "metadata": {
      "needs_background": "light"
     },
     "output_type": "display_data"
    }
   ],
   "source": [
    "# This program creates a histogram from data stored in a csv file and saves it as a png image.\n",
    "\n",
    "# The data file must be one column of numbers - no column labels, etc.\n",
    "# It must be saved as a csv file (e.g. use \"Save As\" in Excel and choose csv format).\n",
    "# It must be saved in the same folder as this program.\n",
    "# See the file sample_histogram_data.csv for reference.\n",
    "\n",
    "# In the next line, replace sample_histogram_data.csv with the filename of your data:\n",
    "data_filename = 'sample_histogram_data.csv'\n",
    "\n",
    "# In the next line, replace histogram with the filename you wish to save as:\n",
    "output_filename = 'histogram.png'\n",
    "\n",
    "# Use the next line to set figure height and width (experiment to check the scale):\n",
    "figure_width, figure_height = 7,7\n",
    "\n",
    "# These two lines import modules of additional python functions that will be necessary:\n",
    "import matplotlib.pyplot as plt\n",
    "import numpy as np\n",
    "\n",
    "# This line imports the data:\n",
    "data = np.genfromtxt(data_filename)\n",
    "\n",
    "# If there are errors importing the data, you can also copy the data in as a list.\n",
    "# e.g. data = [1.95878982, 2.59203983, 1.22704688, ...]\n",
    "\n",
    "# This line creates the figure. \n",
    "plt.figure(figsize=(figure_width,figure_height))\n",
    "\n",
    "# Uncomment the next four lines to set the axis limits (otherwise they will be set automatically):\n",
    "# x_axis_min, x_axis_max = 0.95,4.05\n",
    "# y_axis_min, y_axis_max = 4.05\n",
    "# plt.xlim([x_axis_min,x_axis_max])\n",
    "# plt.ylim([y_axis_min,y_axis_max])\n",
    "\n",
    "# This next parameter controls how the data is binned.\n",
    "# Either set it as a particular value (e.g. bin_info = 6)...\n",
    "# ... for Python to create a number of evenly spaced bins (from the min to the max data points)...\n",
    "# Or set a list of bin endpoints (e.g. bin_info = [1.0,1.5,2.0,2.5,3.0,3.5,4.0])...\n",
    "# Or set bin_info = None for Python to set the bins however it thinks best.\n",
    "bin_info = [1.0,1.5,2.0,2.5,3.0,3.5,4.0]\n",
    "\n",
    "# The next lines create and save the plot:\n",
    "plt.hist(data,bins=bin_info)\n",
    "plt.savefig(output_filename)"
   ]
  },
  {
   "cell_type": "markdown",
   "metadata": {},
   "source": [
    "# multiple linear regression"
   ]
  },
  {
   "cell_type": "code",
   "execution_count": 4,
   "metadata": {},
   "outputs": [
    {
     "name": "stdout",
     "output_type": "stream",
     "text": [
      "                            OLS Regression Results                            \n",
      "==============================================================================\n",
      "Dep. Variable:                      y   R-squared:                       0.989\n",
      "Model:                            OLS   Adj. R-squared:                  0.989\n",
      "Method:                 Least Squares   F-statistic:                     4259.\n",
      "Date:                Tue, 27 Oct 2020   Prob (F-statistic):           3.14e-95\n",
      "Time:                        22:45:13   Log-Likelihood:                -471.79\n",
      "No. Observations:                 100   AIC:                             949.6\n",
      "Df Residuals:                      97   BIC:                             957.4\n",
      "Df Model:                           2                                         \n",
      "Covariance Type:            nonrobust                                         \n",
      "==============================================================================\n",
      "                 coef    std err          t      P>|t|      [0.025      0.975]\n",
      "------------------------------------------------------------------------------\n",
      "const        196.7401      5.917     33.248      0.000     184.996     208.484\n",
      "x1             2.1765      0.132     16.432      0.000       1.914       2.439\n",
      "x2             7.0547      0.113     62.708      0.000       6.831       7.278\n",
      "==============================================================================\n",
      "Omnibus:                        0.549   Durbin-Watson:                   2.391\n",
      "Prob(Omnibus):                  0.760   Jarque-Bera (JB):                0.693\n",
      "Skew:                           0.104   Prob(JB):                        0.707\n",
      "Kurtosis:                       2.649   Cond. No.                         165.\n",
      "==============================================================================\n",
      "\n",
      "Notes:\n",
      "[1] Standard Errors assume that the covariance matrix of the errors is correctly specified.\n",
      "\n",
      "predictor coefficients = [2.17648603 7.05470639]\n",
      "constant               = 196.7400516579663\n",
      "Rsquared               = 0.9887412957208086\n",
      "MSE                    = 756.2231692156397\n",
      "T-test pvalues         = [8.79461089e-30 2.61560283e-80]\n",
      "F-test pvalue          = 3.1418683808741956e-95\n"
     ]
    }
   ],
   "source": [
    "# This program performs a multiple linear regression from data stored in a csv file.\n",
    "\n",
    "# The data file must be in columns of numbers - no column labels, etc.\n",
    "# The first column is the y values, the following columns are the predictors x1, x2, x3, etc.\n",
    "\n",
    "# This data must be saved as a csv file (e.g. use \"Save As\" in Excel and choose csv format).\n",
    "# It must be saved in the same folder as this program.\n",
    "# See the file demo_multreg_data_example.csv for reference.\n",
    "\n",
    "# In the next line, replace demo_multreg_data_example.csv with the filename of your data:\n",
    "data_filename = 'demo_multreg_data_example.csv'\n",
    "\n",
    "# The next lines import the necessary packages to perform the regression:\n",
    "import statsmodels.api as sms\n",
    "import numpy as np\n",
    "\n",
    "data = np.genfromtxt(data_filename,delimiter = ',')\n",
    "\n",
    "# If there are errors importing the data, you can also copy it in as follows:\n",
    "# e.g. data = [[737.4776314, 34, 65],\n",
    "#              [869.2063792, 57, 73],\n",
    "#              [1033.705248, 59, 100],\n",
    "#              ...\n",
    "#              [737.5129466, 66, 49]]\n",
    "# (Compare this example with the file demo_multreg_data_example.csv)\n",
    "\n",
    "# These lines extract the y-values and the x-values from the data:\n",
    "y_values = data[:,0]\n",
    "x_values = data[:,1:]\n",
    "\n",
    "# These lines perform the regression procedure:\n",
    "X_values = sms.add_constant(x_values)\n",
    "regression_model_a = sms.OLS(y_values, X_values)\n",
    "regression_model_b = regression_model_a.fit()\n",
    "# and print a summary of the results:\n",
    "print(regression_model_b.summary())\n",
    "print() # blank line\n",
    "\n",
    "# Now we store all the relevant values:\n",
    "predictor_coeffs  = regression_model_b.params[1:]\n",
    "constant          = regression_model_b.params[0] # called the 'intercept' in simple regression\n",
    "Rsquared          = regression_model_b.rsquared\n",
    "MSE               = regression_model_b.mse_resid\n",
    "pvalues_T         = regression_model_b.pvalues[1:]\n",
    "pvalue_F          = regression_model_b.f_pvalue\n",
    "\n",
    "# Note that predictor_coeffs is a list of the best-fit coefficients for x1, x2, x3, ...\n",
    "# Similarly, pvalues_T is a list of the p-values associated with each of these variables in turn.\n",
    "\n",
    "# Print these summary stats:\n",
    "print(\"predictor coefficients =\", predictor_coeffs)\n",
    "print(\"constant               =\", constant)\n",
    "print(\"Rsquared               =\", Rsquared)\n",
    "print(\"MSE                    =\", MSE)\n",
    "print(\"T-test pvalues         =\", pvalues_T)\n",
    "print(\"F-test pvalue          =\", pvalue_F)"
   ]
  },
  {
   "cell_type": "markdown",
   "metadata": {},
   "source": [
    "# linear regression"
   ]
  },
  {
   "cell_type": "code",
   "execution_count": 5,
   "metadata": {},
   "outputs": [
    {
     "name": "stdout",
     "output_type": "stream",
     "text": [
      "                            OLS Regression Results                            \n",
      "==============================================================================\n",
      "Dep. Variable:                      y   R-squared:                       0.998\n",
      "Model:                            OLS   Adj. R-squared:                  0.998\n",
      "Method:                 Least Squares   F-statistic:                 1.252e+05\n",
      "Date:                Tue, 27 Oct 2020   Prob (F-statistic):               0.00\n",
      "Time:                        22:45:16   Log-Likelihood:                -3100.8\n",
      "No. Observations:                 282   AIC:                             6206.\n",
      "Df Residuals:                     280   BIC:                             6213.\n",
      "Df Model:                           1                                         \n",
      "Covariance Type:            nonrobust                                         \n",
      "==============================================================================\n",
      "                 coef    std err          t      P>|t|      [0.025      0.975]\n",
      "------------------------------------------------------------------------------\n",
      "const      -4267.8402    972.392     -4.389      0.000   -6181.967   -2353.713\n",
      "x1             1.0757      0.003    353.776      0.000       1.070       1.082\n",
      "==============================================================================\n",
      "Omnibus:                      177.710   Durbin-Watson:                   1.881\n",
      "Prob(Omnibus):                  0.000   Jarque-Bera (JB):            19231.749\n",
      "Skew:                          -1.555   Prob(JB):                         0.00\n",
      "Kurtosis:                      43.337   Cond. No.                     3.61e+05\n",
      "==============================================================================\n",
      "\n",
      "Notes:\n",
      "[1] Standard Errors assume that the covariance matrix of the errors is correctly specified.\n",
      "[2] The condition number is large, 3.61e+05. This might indicate that there are\n",
      "strong multicollinearity or other numerical problems.\n",
      "\n",
      "gradient  = 1.0757188461569425\n",
      "intercept = -4267.840234001598\n",
      "Rsquared  = 0.9977678127385353\n",
      "MSE       = 209559659.24288347\n",
      "pvalue    = 0.0\n"
     ]
    },
    {
     "data": {
      "image/png": "[encoded data removed]",
      "text/plain": [
       "<Figure size 504x504 with 1 Axes>"
      ]
     },
     "metadata": {
      "needs_background": "light"
     },
     "output_type": "display_data"
    }
   ],
   "source": [
    "# This program performs a linear regression from data stored in a csv file,\n",
    "# plots a scatter plot with line of best fit and saves it as a png image.\n",
    "\n",
    "# The data file must be two columns of numbers, the x values and y values - no column labels, etc.\n",
    "# It must be saved as a csv file (e.g. use \"Save As\" in Excel and choose csv format).\n",
    "# It must be saved in the same folder as this program.\n",
    "# See the file population_regression_data.csv for reference.\n",
    "\n",
    "# In the next line, replace sample_boxplot_data.csv with the filename of your data:\n",
    "data_filename = 'population_regression_data.csv'\n",
    "\n",
    "# In the next line, replace boxplot with the filename you wish to save as:\n",
    "output_filename = 'regression_figure.png'\n",
    "\n",
    "# Use the next line to set figure height and width (experiment to check the scale):\n",
    "figure_width, figure_height = 7,7\n",
    "\n",
    "# You can ignore these two lines:\n",
    "import matplotlib.pyplot as plt\n",
    "import statsmodels.api as sms\n",
    "import numpy as np\n",
    "\n",
    "data = np.genfromtxt(data_filename,delimiter = ',')\n",
    "\n",
    "# If there are errors importing the data, you can also copy the data in as a list.\n",
    "# e.g. data = [1.95878982, 2.59203983, 1.22704688, ...]\n",
    "\n",
    "# These lines extract the y-values and the x-values from the data:\n",
    "x_values = data[:,0]\n",
    "y_values = data[:,1]\n",
    "\n",
    "# These lines perform the regression procedure:\n",
    "X_values = sms.add_constant(x_values)\n",
    "regression_model_a = sms.OLS(y_values, X_values)\n",
    "regression_model_b = regression_model_a.fit()\n",
    "# and print a summary of the results:\n",
    "print(regression_model_b.summary())\n",
    "print() # blank line\n",
    "\n",
    "# Now we store all the relevant values:\n",
    "gradient  = regression_model_b.params[1]\n",
    "intercept = regression_model_b.params[0]\n",
    "Rsquared  = regression_model_b.rsquared\n",
    "MSE       = regression_model_b.mse_resid\n",
    "pvalue    = regression_model_b.f_pvalue\n",
    "\n",
    "# And print them:\n",
    "print(\"gradient  =\", regression_model_b.params[1])\n",
    "print(\"intercept =\", regression_model_b.params[0])\n",
    "print(\"Rsquared  =\", regression_model_b.rsquared)\n",
    "print(\"MSE       =\", regression_model_b.mse_resid)\n",
    "print(\"pvalue    =\", regression_model_b.f_pvalue)\n",
    "\n",
    "# This line creates the endpoints of the best-fit line:\n",
    "x_lobf = [min(x_values),max(x_values)]\n",
    "y_lobf = [x_lobf[0]*gradient + intercept,x_lobf[1]*gradient + intercept]\n",
    "\n",
    "# This line creates the figure. \n",
    "plt.figure(figsize=(figure_width,figure_height))\n",
    "\n",
    "# Uncomment these lines to set the axis limits (otherwise they will be set automatically):\n",
    "#x_min,x_max = 0,5000000\n",
    "#y_min,y_max = 0,5000000\n",
    "#plt.xlim([x_min,x_max])\n",
    "#plt.ylim([y_min,y_max])\n",
    "\n",
    "# The next lines create and save the plot:\n",
    "plt.plot(x_values,y_values,'b.',x_lobf,y_lobf,'r--')\n",
    "plt.savefig(output_filename)"
   ]
  }
 ],
 "metadata": {
  "kernelspec": {
   "display_name": "Python 3",
   "language": "python",
   "name": "python3"
  },
  "language_info": {
   "codemirror_mode": {
    "name": "ipython",
    "version": 3
   },
   "file_extension": ".py",
   "mimetype": "text/x-python",
   "name": "python",
   "nbconvert_exporter": "python",
   "pygments_lexer": "ipython3",
   "version": "3.7.8"
  }
 },
 "nbformat": 4,
 "nbformat_minor": 4
}
